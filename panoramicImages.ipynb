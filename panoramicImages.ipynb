{
 "cells": [
  {
   "cell_type": "markdown",
   "id": "f11cddd1",
   "metadata": {},
   "source": [
    "# Proyecto 3 - Visión por Computadora\n",
    "## Integrantes:\n",
    "- Mario Guerra - Carné: 21008\n",
    "- Javier Alvarado - Carné: 21188\n",
    "- Emilio Solano - Carné: 21212"
   ]
  },
  {
   "cell_type": "markdown",
   "id": "aacd9ab7",
   "metadata": {},
   "source": [
    "### Inciso 1. Elección de imagen base."
   ]
  },
  {
   "cell_type": "code",
   "execution_count": null,
   "id": "ee037159",
   "metadata": {},
   "outputs": [],
   "source": [
    "# Código aquí."
   ]
  },
  {
   "cell_type": "markdown",
   "id": "2758f469",
   "metadata": {},
   "source": [
    "### Inciso 2. Detección de correspondencias y cálculo de homografías."
   ]
  },
  {
   "cell_type": "code",
   "execution_count": null,
   "id": "ab41e948",
   "metadata": {},
   "outputs": [],
   "source": [
    "# Código aquí."
   ]
  },
  {
   "cell_type": "markdown",
   "id": "7620b86e",
   "metadata": {},
   "source": [
    "### Inciso 3. Warping"
   ]
  },
  {
   "cell_type": "code",
   "execution_count": null,
   "id": "2743dcce",
   "metadata": {},
   "outputs": [],
   "source": [
    "# Código aquí."
   ]
  },
  {
   "cell_type": "markdown",
   "id": "d9f5e177",
   "metadata": {},
   "source": [
    "### Inciso 4. Blending"
   ]
  },
  {
   "cell_type": "code",
   "execution_count": null,
   "id": "fc921186",
   "metadata": {},
   "outputs": [],
   "source": [
    "# Código aquí."
   ]
  }
 ],
 "metadata": {
  "kernelspec": {
   "display_name": "Python 3",
   "language": "python",
   "name": "python3"
  },
  "language_info": {
   "name": "python",
   "version": "3.12.5"
  }
 },
 "nbformat": 4,
 "nbformat_minor": 5
}
